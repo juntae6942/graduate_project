{
 "cells": [
  {
   "cell_type": "markdown",
   "source": [
    "pip install spotify"
   ],
   "metadata": {
    "collapsed": false
   },
   "id": "2f8a36862810510b"
  },
  {
   "cell_type": "code",
   "outputs": [],
   "source": [
    "import time\n",
    "import pandas as pd\n",
    "import spotipy\n",
    "from spotipy.oauth2 import SpotifyClientCredentials\n",
    "client_credentials_manager = SpotifyClientCredentials(client_id='5c7c9ce33ce246aab5247970b81439f6', client_secret='541c83e188aa4b2aa2a63592f34a29db')\n",
    "sp = spotipy.Spotify(client_credentials_manager=client_credentials_manager)\n",
    "df = pd.read_csv('spotify_with_genre.csv')"
   ],
   "metadata": {
    "collapsed": false,
    "ExecuteTime": {
     "end_time": "2025-04-29T04:19:32.252614Z",
     "start_time": "2025-04-29T04:19:31.998069Z"
    }
   },
   "id": "8bb5672fb98cf8cf",
   "execution_count": 149
  },
  {
   "cell_type": "markdown",
   "source": [
    "def get_artist_genres(artist_name, retries=3, delay=1):\n",
    "    for i in range(retries):\n",
    "        try:\n",
    "            result = sp.search(q='artist:' + artist_name, type='artist', limit=1)\n",
    "            items = result['artists']['items']\n",
    "            if items:\n",
    "                return items[0]['genres']\n",
    "            else:\n",
    "                return []\n",
    "        except Exception as e:\n",
    "            print(f\"Retry {i+1}/{retries} - Error with artist '{artist_name}': {e}\")\n",
    "            time.sleep(delay)\n",
    "    return []\n",
    "\n",
    "# 모든 아티스트에 대해 장르 가져오기\n",
    "all_track_genres = []\n",
    "count = 0\n",
    "for artists_str in df['artist_name']:\n",
    "    count+=1\n",
    "    if count == 5:\n",
    "        break\n",
    "    artist_names = [artist.strip() for artist in artists_str.split(',')]\n",
    "    track_genres = set()\n",
    "\n",
    "    for artist_name in artist_names:\n",
    "        genres = get_artist_genres(artist_name)\n",
    "        track_genres.update(genres)\n",
    "        time.sleep(0.1)  # 요청 사이 딜레이\n",
    "\n",
    "    if track_genres:\n",
    "        all_track_genres.append(', '.join(sorted(track_genres)))\n",
    "    else:\n",
    "        all_track_genres.append('unknown')\n",
    "\n",
    "# 결과 저장\n",
    "print(all_track_genres)\n",
    "# df['track_genre'] = all_track_genres\n",
    "print(\"✅ 장르 추가 완료! → 'spotify_with_all_genres.csv' 로 저장됨\")"
   ],
   "metadata": {
    "collapsed": false
   },
   "id": "efb412617bb2b51c"
  },
  {
   "cell_type": "code",
   "outputs": [],
   "source": [
    "def get_genres_from_track(track_id, retries=3, delay=1):\n",
    "    for attempt in range(retries):\n",
    "        try:\n",
    "            track = sp.track(track_id)\n",
    "            artist_ids = [artist['id'] for artist in track['artists']]\n",
    "            all_genres = set()\n",
    "            for artist_id in artist_ids:\n",
    "                artist = sp.artist(artist_id)\n",
    "                all_genres.update(artist.get('genres', []))\n",
    "                time.sleep(delay)  # rate limit 보호\n",
    "            return ', '.join(sorted(all_genres)) if all_genres else 'unknown'\n",
    "        except Exception as e:\n",
    "            print(f\"[{track_id}] Error (attempt {attempt + 1}): {e}\")\n",
    "            time.sleep(delay)\n",
    "    return 'unknown'\n",
    "# # 장르 가져오기 실행\n",
    "# genres = []\n",
    "# for track_id in df['track_id']:\n",
    "#     genre = get_genres_from_track(track_id)\n",
    "#     genres.append(genre)\n",
    "#     print(f\"✅ {track_id} → {genre}\")"
   ],
   "metadata": {
    "collapsed": false,
    "ExecuteTime": {
     "end_time": "2025-04-29T04:19:33.643726Z",
     "start_time": "2025-04-29T04:19:33.587604Z"
    }
   },
   "id": "a030614e41bfbeaa",
   "execution_count": 150
  },
  {
   "cell_type": "code",
   "outputs": [],
   "source": [
    "for i, row in df[df['track_genre'].isna()].iterrows():\n",
    "    genre = get_genres_from_track(row['track_id'], 3)\n",
    "    df.at[i, 'track_genre'] = genre\n",
    "    print(f\"🔄 재시도: {row['track_id']} → {genre}\")"
   ],
   "metadata": {
    "collapsed": false,
    "ExecuteTime": {
     "end_time": "2025-04-29T04:19:43.066606Z",
     "start_time": "2025-04-29T04:19:43.039818Z"
    }
   },
   "id": "744a46d2fa7e482f",
   "execution_count": 153
  },
  {
   "cell_type": "code",
   "outputs": [],
   "source": [
    "df.to_csv('spotify_with_genre.csv', index=False)"
   ],
   "metadata": {
    "collapsed": false,
    "ExecuteTime": {
     "end_time": "2025-04-29T04:19:38.739660Z",
     "start_time": "2025-04-29T04:19:37.434668Z"
    }
   },
   "id": "85080c1af0180caf",
   "execution_count": 152
  }
 ],
 "metadata": {
  "kernelspec": {
   "display_name": "Python 3",
   "language": "python",
   "name": "python3"
  },
  "language_info": {
   "codemirror_mode": {
    "name": "ipython",
    "version": 2
   },
   "file_extension": ".py",
   "mimetype": "text/x-python",
   "name": "python",
   "nbconvert_exporter": "python",
   "pygments_lexer": "ipython2",
   "version": "2.7.6"
  }
 },
 "nbformat": 4,
 "nbformat_minor": 5
}
