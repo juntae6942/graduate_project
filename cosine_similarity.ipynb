{
 "cells": [
  {
   "cell_type": "code",
   "execution_count": 161,
   "id": "initial_id",
   "metadata": {
    "collapsed": true,
    "ExecuteTime": {
     "end_time": "2025-04-30T11:30:33.604259Z",
     "start_time": "2025-04-30T11:30:33.485950Z"
    }
   },
   "outputs": [],
   "source": [
    "import numpy as np\n",
    "import pandas as pd\n",
    "from sklearn.metrics.pairwise import cosine_similarity\n",
    "from sklearn.preprocessing import MinMaxScaler, MultiLabelBinarizer"
   ]
  },
  {
   "cell_type": "markdown",
   "source": [
    "# Dataset 불러오기 60bpm 이상"
   ],
   "metadata": {
    "collapsed": false
   },
   "id": "ab9b478ef4f55151"
  },
  {
   "cell_type": "code",
   "outputs": [],
   "source": [
    "df = pd.read_csv('tempo_upper_60.csv')\n",
    "df['genre_list'] = df['track_genre'].apply(lambda x: [g.strip() for g in x.split(',')])\n",
    "\n",
    "# 2. MultiLabelBinarizer로 인코딩\n",
    "mlb = MultiLabelBinarizer()\n",
    "genre_encoded = mlb.fit_transform(df['genre_list'])\n",
    "\n",
    "# 3. 결과 DataFrame에 붙이기\n",
    "genre_df = pd.DataFrame(genre_encoded, columns=mlb.classes_)\n",
    "df = pd.concat([df, genre_df], axis=1)"
   ],
   "metadata": {
    "collapsed": false,
    "ExecuteTime": {
     "end_time": "2025-04-30T11:30:34.448059Z",
     "start_time": "2025-04-30T11:30:34.279268Z"
    }
   },
   "id": "9e58ee60abc781ab",
   "execution_count": 162
  },
  {
   "cell_type": "markdown",
   "source": [
    "# ISO 원리를 위한 tempo별 분리"
   ],
   "metadata": {
    "collapsed": false
   },
   "id": "8e2905b0719776f0"
  },
  {
   "cell_type": "code",
   "outputs": [],
   "source": [
    "def classify_iso_tempo(tempo): \n",
    "    if tempo < 70:\n",
    "        return 'Stage 1'\n",
    "    elif tempo < 80:\n",
    "        return 'Stage 2'\n",
    "    elif tempo < 90:\n",
    "        return 'Stage 3'\n",
    "    elif tempo < 100:\n",
    "        return 'Stage 4'\n",
    "    elif tempo < 110:\n",
    "        return 'Stage 5'\n",
    "    elif tempo < 120:\n",
    "        return 'Stage 6'\n",
    "    else:\n",
    "        return 'Stage 7'"
   ],
   "metadata": {
    "collapsed": false,
    "ExecuteTime": {
     "end_time": "2025-04-30T11:30:35.431957Z",
     "start_time": "2025-04-30T11:30:35.421776Z"
    }
   },
   "id": "2e9150462763b54e",
   "execution_count": 163
  },
  {
   "cell_type": "code",
   "outputs": [],
   "source": [
    "# 분류 적용\n",
    "df['iso_stage'] = df['tempo'].apply(classify_iso_tempo)"
   ],
   "metadata": {
    "collapsed": false,
    "ExecuteTime": {
     "end_time": "2025-04-30T11:30:36.061464Z",
     "start_time": "2025-04-30T11:30:36.037726Z"
    }
   },
   "id": "19e4076aa2b167f3",
   "execution_count": 164
  },
  {
   "cell_type": "code",
   "outputs": [
    {
     "data": {
      "text/plain": "                 track_id                                   track_name  \\\n0  0BBAcsIw7RYLtHFTNJUQFe                 Knockout Song - Ambient Lofi   \n1  5OMH9KGnXhzbiVL1kDxZTg                    Knockout Song - House Mix   \n2  3sOQaED4oONy3cMR8ywwE5                Vaaran Unna Vechiseyya Poraan   \n3  5zDRx2IlpoiNHBpmG4btVN  Per Vachaalum Vaikkaama (From \"Dikkiloona\")   \n4  21r0QnhYxsxYUsoov5o0IF                      Per Vachaalum Vaikkaama   \n\n                                         artist_name  year  popularity  \\\n0  Anirudh Ravichander, Madley Blues, Vignesh Shi...  2024          12   \n1  Anirudh Ravichander, Madley Blues, Vignesh Shi...  2023           7   \n2  Santhosh Hariharan, Shenbagaraj, Vignesh Naray...  2019           0   \n3  Yuvan Shankar Raja, Ilaiyaraaja, Malaysia Vasu...  2021          51   \n4  Yuvan Shankar Raja, Ilaiyaraaja, Malaysia Vasu...  2021          47   \n\n                                         artwork_url  \\\n0  https://i.scdn.co/image/ab67616d0000b2738aa5c0...   \n1  https://i.scdn.co/image/ab67616d0000b27361845d...   \n2  https://i.scdn.co/image/ab67616d0000b2730eb73d...   \n3  https://i.scdn.co/image/ab67616d0000b27377e32a...   \n4  https://i.scdn.co/image/ab67616d0000b2736dd803...   \n\n                                          album_name  acousticness  \\\n0                       Knockout Song (Ambient Lofi)        0.4510   \n1                          Knockout Song (House Mix)        0.0264   \n2  Kennedy Club (Original Motion Picture Soundtrack)        0.4160   \n3        Per Vachaalum Vaikkaama (From \"Dikkiloona\")        0.3050   \n4    Dikkiloona (Original Motion Picture Soundtrack)        0.3020   \n\n   danceability  duration_ms  ...  urbano latino  vallenato  vaporwave  \\\n0         0.609        98400  ...              0          0          0   \n1         0.753        84375  ...              0          0          0   \n2         0.690       115882  ...              0          0          0   \n3         0.761       268400  ...              0          0          0   \n4         0.754       268400  ...              0          0          0   \n\n   variété française  visual kei  vocal jazz  vocaloid  west coast hip hop  \\\n0                  0           0           0         0                   0   \n1                  0           0           0         0                   0   \n2                  0           0           0         0                   0   \n3                  0           0           0         0                   0   \n4                  0           0           0         0                   0   \n\n   worship  iso_stage  \n0        0    Stage 4  \n1        0    Stage 7  \n2        0    Stage 7  \n3        0    Stage 2  \n4        0    Stage 2  \n\n[5 rows x 423 columns]",
      "text/html": "<div>\n<style scoped>\n    .dataframe tbody tr th:only-of-type {\n        vertical-align: middle;\n    }\n\n    .dataframe tbody tr th {\n        vertical-align: top;\n    }\n\n    .dataframe thead th {\n        text-align: right;\n    }\n</style>\n<table border=\"1\" class=\"dataframe\">\n  <thead>\n    <tr style=\"text-align: right;\">\n      <th></th>\n      <th>track_id</th>\n      <th>track_name</th>\n      <th>artist_name</th>\n      <th>year</th>\n      <th>popularity</th>\n      <th>artwork_url</th>\n      <th>album_name</th>\n      <th>acousticness</th>\n      <th>danceability</th>\n      <th>duration_ms</th>\n      <th>...</th>\n      <th>urbano latino</th>\n      <th>vallenato</th>\n      <th>vaporwave</th>\n      <th>variété française</th>\n      <th>visual kei</th>\n      <th>vocal jazz</th>\n      <th>vocaloid</th>\n      <th>west coast hip hop</th>\n      <th>worship</th>\n      <th>iso_stage</th>\n    </tr>\n  </thead>\n  <tbody>\n    <tr>\n      <th>0</th>\n      <td>0BBAcsIw7RYLtHFTNJUQFe</td>\n      <td>Knockout Song - Ambient Lofi</td>\n      <td>Anirudh Ravichander, Madley Blues, Vignesh Shi...</td>\n      <td>2024</td>\n      <td>12</td>\n      <td>https://i.scdn.co/image/ab67616d0000b2738aa5c0...</td>\n      <td>Knockout Song (Ambient Lofi)</td>\n      <td>0.4510</td>\n      <td>0.609</td>\n      <td>98400</td>\n      <td>...</td>\n      <td>0</td>\n      <td>0</td>\n      <td>0</td>\n      <td>0</td>\n      <td>0</td>\n      <td>0</td>\n      <td>0</td>\n      <td>0</td>\n      <td>0</td>\n      <td>Stage 4</td>\n    </tr>\n    <tr>\n      <th>1</th>\n      <td>5OMH9KGnXhzbiVL1kDxZTg</td>\n      <td>Knockout Song - House Mix</td>\n      <td>Anirudh Ravichander, Madley Blues, Vignesh Shi...</td>\n      <td>2023</td>\n      <td>7</td>\n      <td>https://i.scdn.co/image/ab67616d0000b27361845d...</td>\n      <td>Knockout Song (House Mix)</td>\n      <td>0.0264</td>\n      <td>0.753</td>\n      <td>84375</td>\n      <td>...</td>\n      <td>0</td>\n      <td>0</td>\n      <td>0</td>\n      <td>0</td>\n      <td>0</td>\n      <td>0</td>\n      <td>0</td>\n      <td>0</td>\n      <td>0</td>\n      <td>Stage 7</td>\n    </tr>\n    <tr>\n      <th>2</th>\n      <td>3sOQaED4oONy3cMR8ywwE5</td>\n      <td>Vaaran Unna Vechiseyya Poraan</td>\n      <td>Santhosh Hariharan, Shenbagaraj, Vignesh Naray...</td>\n      <td>2019</td>\n      <td>0</td>\n      <td>https://i.scdn.co/image/ab67616d0000b2730eb73d...</td>\n      <td>Kennedy Club (Original Motion Picture Soundtrack)</td>\n      <td>0.4160</td>\n      <td>0.690</td>\n      <td>115882</td>\n      <td>...</td>\n      <td>0</td>\n      <td>0</td>\n      <td>0</td>\n      <td>0</td>\n      <td>0</td>\n      <td>0</td>\n      <td>0</td>\n      <td>0</td>\n      <td>0</td>\n      <td>Stage 7</td>\n    </tr>\n    <tr>\n      <th>3</th>\n      <td>5zDRx2IlpoiNHBpmG4btVN</td>\n      <td>Per Vachaalum Vaikkaama (From \"Dikkiloona\")</td>\n      <td>Yuvan Shankar Raja, Ilaiyaraaja, Malaysia Vasu...</td>\n      <td>2021</td>\n      <td>51</td>\n      <td>https://i.scdn.co/image/ab67616d0000b27377e32a...</td>\n      <td>Per Vachaalum Vaikkaama (From \"Dikkiloona\")</td>\n      <td>0.3050</td>\n      <td>0.761</td>\n      <td>268400</td>\n      <td>...</td>\n      <td>0</td>\n      <td>0</td>\n      <td>0</td>\n      <td>0</td>\n      <td>0</td>\n      <td>0</td>\n      <td>0</td>\n      <td>0</td>\n      <td>0</td>\n      <td>Stage 2</td>\n    </tr>\n    <tr>\n      <th>4</th>\n      <td>21r0QnhYxsxYUsoov5o0IF</td>\n      <td>Per Vachaalum Vaikkaama</td>\n      <td>Yuvan Shankar Raja, Ilaiyaraaja, Malaysia Vasu...</td>\n      <td>2021</td>\n      <td>47</td>\n      <td>https://i.scdn.co/image/ab67616d0000b2736dd803...</td>\n      <td>Dikkiloona (Original Motion Picture Soundtrack)</td>\n      <td>0.3020</td>\n      <td>0.754</td>\n      <td>268400</td>\n      <td>...</td>\n      <td>0</td>\n      <td>0</td>\n      <td>0</td>\n      <td>0</td>\n      <td>0</td>\n      <td>0</td>\n      <td>0</td>\n      <td>0</td>\n      <td>0</td>\n      <td>Stage 2</td>\n    </tr>\n  </tbody>\n</table>\n<p>5 rows × 423 columns</p>\n</div>"
     },
     "execution_count": 165,
     "metadata": {},
     "output_type": "execute_result"
    }
   ],
   "source": [
    "df.head()"
   ],
   "metadata": {
    "collapsed": false,
    "ExecuteTime": {
     "end_time": "2025-04-30T11:30:36.962798Z",
     "start_time": "2025-04-30T11:30:36.902532Z"
    }
   },
   "id": "c7ac6d7c1de91d9",
   "execution_count": 165
  },
  {
   "cell_type": "markdown",
   "source": [
    "# 취향 반영을 위한 사용자 선택 음악 입력"
   ],
   "metadata": {
    "collapsed": false
   },
   "id": "1fb2ddc1a70f24cc"
  },
  {
   "cell_type": "code",
   "outputs": [],
   "source": [
    "features = ['popularity', 'acousticness', 'danceability', 'energy', 'instrumentalness', 'key', 'liveness', 'loudness', 'mode', 'speechiness', 'tempo', 'valence'] + list(mlb.classes_)"
   ],
   "metadata": {
    "collapsed": false,
    "ExecuteTime": {
     "end_time": "2025-04-30T11:30:41.314285Z",
     "start_time": "2025-04-30T11:30:41.298690Z"
    }
   },
   "id": "db22b948ec900af2",
   "execution_count": 166
  },
  {
   "cell_type": "code",
   "outputs": [],
   "source": [
    "current_iso_stage = df[df['iso_stage']=='Stage 1'].copy() # BPM 대역 선택\n",
    "dynamite_features=[62, 0.0112, 0.746, 0.765, 0.0, 6, 0.0933, -4.41, 0, 0.0993, 114.044, 0.737]  # 사용자 취향의 음악\n",
    "dynamite_genre = ['k-pop'] # 사용자 취향 장르\n",
    "\n",
    "dynamite_genre_encoded = mlb.transform([dynamite_genre])[0]\n",
    "dynamite_all_features = np.array(dynamite_features + dynamite_genre_encoded.tolist())\n",
    "\n",
    "# input 전처리\n",
    "dynamite_df = pd.DataFrame([dynamite_all_features], columns=features)"
   ],
   "metadata": {
    "collapsed": false,
    "ExecuteTime": {
     "end_time": "2025-04-30T11:32:02.050414Z",
     "start_time": "2025-04-30T11:32:01.984351Z"
    }
   },
   "id": "ef27d5d2ce66c462",
   "execution_count": 175
  },
  {
   "cell_type": "code",
   "outputs": [],
   "source": [
    "girlsLikeYou_feature = [28,0.558,0.604,0.462,1.05E-6,0,0.131,-7.053,1,0.0614,60.26,0.378]\n",
    "girlsLikeYou_genre = ['pop']\n",
    "\n",
    "girlsLikeYou_genre_encoded = mlb.transform([girlsLikeYou_genre])[0]\n",
    "girlsLikeYou_all_feature = np.array(girlsLikeYou_feature + girlsLikeYou_genre_encoded.tolist())\n",
    "\n",
    "girlsLikeYou_df = pd.DataFrame([girlsLikeYou_all_feature],columns=features)"
   ],
   "metadata": {
    "collapsed": false,
    "ExecuteTime": {
     "end_time": "2025-04-30T11:32:02.482180Z",
     "start_time": "2025-04-30T11:32:02.473380Z"
    }
   },
   "id": "592d5c4576f04994",
   "execution_count": 176
  },
  {
   "cell_type": "markdown",
   "source": [
    "# 스케일링"
   ],
   "metadata": {
    "collapsed": false
   },
   "id": "9cce226b1e145340"
  },
  {
   "cell_type": "code",
   "outputs": [],
   "source": [
    "scaler = MinMaxScaler()\n",
    "current_scaled = scaler.fit_transform(current_iso_stage[features])\n",
    "dynamite_scaled = scaler.transform(dynamite_df)"
   ],
   "metadata": {
    "collapsed": false,
    "ExecuteTime": {
     "end_time": "2025-04-30T11:32:03.774378Z",
     "start_time": "2025-04-30T11:32:03.726036Z"
    }
   },
   "id": "eac1691169a86607",
   "execution_count": 177
  },
  {
   "cell_type": "code",
   "outputs": [],
   "source": [
    "girlsLikeYou_scaled = scaler.transform(girlsLikeYou_df)"
   ],
   "metadata": {
    "collapsed": false,
    "ExecuteTime": {
     "end_time": "2025-04-30T11:32:04.629107Z",
     "start_time": "2025-04-30T11:32:04.577508Z"
    }
   },
   "id": "dc200ff3ac96195d",
   "execution_count": 178
  },
  {
   "cell_type": "markdown",
   "source": [
    "# 코사인 유사도 계산"
   ],
   "metadata": {
    "collapsed": false
   },
   "id": "ba1b6f40db3c9d30"
  },
  {
   "cell_type": "code",
   "outputs": [],
   "source": [
    "similarities = cosine_similarity(dynamite_scaled, current_scaled)[0]\n",
    "\n",
    "# 4. 유사도 추가 후 상위 N개 추천\n",
    "current_iso_stage['similarity'] = similarities\n",
    "top_recommendations = current_iso_stage.sort_values(by='similarity', ascending=False).head(10)"
   ],
   "metadata": {
    "collapsed": false,
    "ExecuteTime": {
     "end_time": "2025-04-30T11:32:05.733836Z",
     "start_time": "2025-04-30T11:32:05.689188Z"
    }
   },
   "id": "99fa50d62d3a9ca8",
   "execution_count": 179
  },
  {
   "cell_type": "code",
   "outputs": [],
   "source": [
    "similarities = cosine_similarity(girlsLikeYou_scaled, current_scaled)[0]\n",
    "\n",
    "current_iso_stage['similarity_2'] = similarities\n",
    "top_recommendations_2 = current_iso_stage.sort_values(by='similarity_2', ascending=False).head(10)"
   ],
   "metadata": {
    "collapsed": false,
    "ExecuteTime": {
     "end_time": "2025-04-30T11:32:06.561490Z",
     "start_time": "2025-04-30T11:32:06.530282Z"
    }
   },
   "id": "b20546663a0a60c5",
   "execution_count": 180
  },
  {
   "cell_type": "code",
   "outputs": [
    {
     "data": {
      "text/plain": "                    track_id                             track_name  \\\n4510  4FopzmRUfn8Ob8xlYVZqe8  Close to You (SEUNGMIN of Stray Kids)   \n2423  58ItBuVuKc03DvqSeZFnH1                  Sacrifice (Eat Me Up)   \n2841  1KBxrjLmHQf993Q0cjYbHj                                   So I   \n1696  0XwvxY5yMRI7vh55eBRe3B               Butterfly (Prologue Mix)   \n1721  4C5gHVYvSSJRPsunMJqdsd              Butterfly - Japanese Ver.   \n2778  4ojZUY8fA7RqGo31UdXTuQ                     잠들고 싶어 In My Dream   \n2471  6gGpF8V8miC4O0GZUqSZ9a                 Intro : The Invitation   \n5727  32DeerIMaoGPYUfopOOL40                              ADORE YOU   \n1985  4p3V4c9u09KYZBrzL9dvBG                     Eagle Bear Buffalo   \n9394  5kWbITj1O9l3hCWeUPwzJy                    Chelsea's Hip Flask   \n\n           artist_name  year  popularity  \\\n4510        Stray Kids  2022          27   \n2423           ENHYPEN  2023          70   \n2841      SUPER JUNIOR  2005          31   \n1696               BTS  2016          58   \n1721               BTS  2016          26   \n2778      SUPER JUNIOR  2010          20   \n2471           ENHYPEN  2021          50   \n5727              iKON  2019          37   \n1985         Passenger  2018          20   \n9394  Daniel Pemberton  2022           1   \n\n                                            artwork_url  \\\n4510  https://i.scdn.co/image/ab67616d0000b273abfe8d...   \n2423  https://i.scdn.co/image/ab67616d0000b2731d03b5...   \n2841  https://i.scdn.co/image/ab67616d0000b27310a4c7...   \n1696  https://i.scdn.co/image/ab67616d0000b273c6dbc6...   \n1721  https://i.scdn.co/image/ab67616d0000b273a3533c...   \n2778  https://i.scdn.co/image/ab67616d0000b2735e62a2...   \n2471  https://i.scdn.co/image/ab67616d0000b273714e56...   \n5727  https://i.scdn.co/image/ab67616d0000b2738b9479...   \n1985  https://i.scdn.co/image/ab67616d0000b273bdd757...   \n9394  https://i.scdn.co/image/ab67616d0000b273094932...   \n\n                                             album_name  acousticness  \\\n4510  Love In Contract (Original Television Soundtrack)       0.71100   \n2423                                         DARK BLOOD       0.44400   \n2841                                    Super Junior 05       0.22300   \n1696   The Most Beautiful Moment in Life: Young Forever       0.04460   \n1721               Run (Japanese Ver./Standard Edition)       0.02180   \n2778           미인아 (Bonamana) - The 4th Album Repackage       0.55000   \n2471                                  BORDER : CARNIVAL       0.00442   \n5727                  NEW KIDS REPACKAGE : THE NEW KIDS       0.21400   \n1985                                   Runaway (Deluxe)       0.01190   \n9394  The Afterparty: Season 1 (Apple TV+ Original S...       0.30000   \n\n      danceability  duration_ms  ...  vallenato  vaporwave  variété française  \\\n4510         0.516       228539  ...          0          0                  0   \n2423         0.536       202488  ...          0          0                  0   \n2841         0.548       223213  ...          0          0                  0   \n1696         0.373       295128  ...          0          0                  0   \n1721         0.289       241867  ...          0          0                  0   \n2778         0.280       303787  ...          0          0                  0   \n2471         0.283       130883  ...          0          0                  0   \n5727         0.500       210575  ...          0          0                  0   \n1985         0.442       204253  ...          0          0                  0   \n9394         0.123       149567  ...          0          0                  0   \n\n      visual kei  vocal jazz  vocaloid  west coast hip hop  worship  \\\n4510           0           0         0                   0        0   \n2423           0           0         0                   0        0   \n2841           0           0         0                   0        0   \n1696           0           0         0                   0        0   \n1721           0           0         0                   0        0   \n2778           0           0         0                   0        0   \n2471           0           0         0                   0        0   \n5727           0           0         0                   0        0   \n1985           0           0         0                   0        0   \n9394           0           0         0                   0        0   \n\n      iso_stage  similarity  \n4510    Stage 1    0.742932  \n2423    Stage 1    0.708122  \n2841    Stage 1    0.698890  \n1696    Stage 1    0.694253  \n1721    Stage 1    0.679788  \n2778    Stage 1    0.666670  \n2471    Stage 1    0.659102  \n5727    Stage 1    0.636579  \n1985    Stage 1    0.616225  \n9394    Stage 1    0.612390  \n\n[10 rows x 424 columns]",
      "text/html": "<div>\n<style scoped>\n    .dataframe tbody tr th:only-of-type {\n        vertical-align: middle;\n    }\n\n    .dataframe tbody tr th {\n        vertical-align: top;\n    }\n\n    .dataframe thead th {\n        text-align: right;\n    }\n</style>\n<table border=\"1\" class=\"dataframe\">\n  <thead>\n    <tr style=\"text-align: right;\">\n      <th></th>\n      <th>track_id</th>\n      <th>track_name</th>\n      <th>artist_name</th>\n      <th>year</th>\n      <th>popularity</th>\n      <th>artwork_url</th>\n      <th>album_name</th>\n      <th>acousticness</th>\n      <th>danceability</th>\n      <th>duration_ms</th>\n      <th>...</th>\n      <th>vallenato</th>\n      <th>vaporwave</th>\n      <th>variété française</th>\n      <th>visual kei</th>\n      <th>vocal jazz</th>\n      <th>vocaloid</th>\n      <th>west coast hip hop</th>\n      <th>worship</th>\n      <th>iso_stage</th>\n      <th>similarity</th>\n    </tr>\n  </thead>\n  <tbody>\n    <tr>\n      <th>4510</th>\n      <td>4FopzmRUfn8Ob8xlYVZqe8</td>\n      <td>Close to You (SEUNGMIN of Stray Kids)</td>\n      <td>Stray Kids</td>\n      <td>2022</td>\n      <td>27</td>\n      <td>https://i.scdn.co/image/ab67616d0000b273abfe8d...</td>\n      <td>Love In Contract (Original Television Soundtrack)</td>\n      <td>0.71100</td>\n      <td>0.516</td>\n      <td>228539</td>\n      <td>...</td>\n      <td>0</td>\n      <td>0</td>\n      <td>0</td>\n      <td>0</td>\n      <td>0</td>\n      <td>0</td>\n      <td>0</td>\n      <td>0</td>\n      <td>Stage 1</td>\n      <td>0.742932</td>\n    </tr>\n    <tr>\n      <th>2423</th>\n      <td>58ItBuVuKc03DvqSeZFnH1</td>\n      <td>Sacrifice (Eat Me Up)</td>\n      <td>ENHYPEN</td>\n      <td>2023</td>\n      <td>70</td>\n      <td>https://i.scdn.co/image/ab67616d0000b2731d03b5...</td>\n      <td>DARK BLOOD</td>\n      <td>0.44400</td>\n      <td>0.536</td>\n      <td>202488</td>\n      <td>...</td>\n      <td>0</td>\n      <td>0</td>\n      <td>0</td>\n      <td>0</td>\n      <td>0</td>\n      <td>0</td>\n      <td>0</td>\n      <td>0</td>\n      <td>Stage 1</td>\n      <td>0.708122</td>\n    </tr>\n    <tr>\n      <th>2841</th>\n      <td>1KBxrjLmHQf993Q0cjYbHj</td>\n      <td>So I</td>\n      <td>SUPER JUNIOR</td>\n      <td>2005</td>\n      <td>31</td>\n      <td>https://i.scdn.co/image/ab67616d0000b27310a4c7...</td>\n      <td>Super Junior 05</td>\n      <td>0.22300</td>\n      <td>0.548</td>\n      <td>223213</td>\n      <td>...</td>\n      <td>0</td>\n      <td>0</td>\n      <td>0</td>\n      <td>0</td>\n      <td>0</td>\n      <td>0</td>\n      <td>0</td>\n      <td>0</td>\n      <td>Stage 1</td>\n      <td>0.698890</td>\n    </tr>\n    <tr>\n      <th>1696</th>\n      <td>0XwvxY5yMRI7vh55eBRe3B</td>\n      <td>Butterfly (Prologue Mix)</td>\n      <td>BTS</td>\n      <td>2016</td>\n      <td>58</td>\n      <td>https://i.scdn.co/image/ab67616d0000b273c6dbc6...</td>\n      <td>The Most Beautiful Moment in Life: Young Forever</td>\n      <td>0.04460</td>\n      <td>0.373</td>\n      <td>295128</td>\n      <td>...</td>\n      <td>0</td>\n      <td>0</td>\n      <td>0</td>\n      <td>0</td>\n      <td>0</td>\n      <td>0</td>\n      <td>0</td>\n      <td>0</td>\n      <td>Stage 1</td>\n      <td>0.694253</td>\n    </tr>\n    <tr>\n      <th>1721</th>\n      <td>4C5gHVYvSSJRPsunMJqdsd</td>\n      <td>Butterfly - Japanese Ver.</td>\n      <td>BTS</td>\n      <td>2016</td>\n      <td>26</td>\n      <td>https://i.scdn.co/image/ab67616d0000b273a3533c...</td>\n      <td>Run (Japanese Ver./Standard Edition)</td>\n      <td>0.02180</td>\n      <td>0.289</td>\n      <td>241867</td>\n      <td>...</td>\n      <td>0</td>\n      <td>0</td>\n      <td>0</td>\n      <td>0</td>\n      <td>0</td>\n      <td>0</td>\n      <td>0</td>\n      <td>0</td>\n      <td>Stage 1</td>\n      <td>0.679788</td>\n    </tr>\n    <tr>\n      <th>2778</th>\n      <td>4ojZUY8fA7RqGo31UdXTuQ</td>\n      <td>잠들고 싶어 In My Dream</td>\n      <td>SUPER JUNIOR</td>\n      <td>2010</td>\n      <td>20</td>\n      <td>https://i.scdn.co/image/ab67616d0000b2735e62a2...</td>\n      <td>미인아 (Bonamana) - The 4th Album Repackage</td>\n      <td>0.55000</td>\n      <td>0.280</td>\n      <td>303787</td>\n      <td>...</td>\n      <td>0</td>\n      <td>0</td>\n      <td>0</td>\n      <td>0</td>\n      <td>0</td>\n      <td>0</td>\n      <td>0</td>\n      <td>0</td>\n      <td>Stage 1</td>\n      <td>0.666670</td>\n    </tr>\n    <tr>\n      <th>2471</th>\n      <td>6gGpF8V8miC4O0GZUqSZ9a</td>\n      <td>Intro : The Invitation</td>\n      <td>ENHYPEN</td>\n      <td>2021</td>\n      <td>50</td>\n      <td>https://i.scdn.co/image/ab67616d0000b273714e56...</td>\n      <td>BORDER : CARNIVAL</td>\n      <td>0.00442</td>\n      <td>0.283</td>\n      <td>130883</td>\n      <td>...</td>\n      <td>0</td>\n      <td>0</td>\n      <td>0</td>\n      <td>0</td>\n      <td>0</td>\n      <td>0</td>\n      <td>0</td>\n      <td>0</td>\n      <td>Stage 1</td>\n      <td>0.659102</td>\n    </tr>\n    <tr>\n      <th>5727</th>\n      <td>32DeerIMaoGPYUfopOOL40</td>\n      <td>ADORE YOU</td>\n      <td>iKON</td>\n      <td>2019</td>\n      <td>37</td>\n      <td>https://i.scdn.co/image/ab67616d0000b2738b9479...</td>\n      <td>NEW KIDS REPACKAGE : THE NEW KIDS</td>\n      <td>0.21400</td>\n      <td>0.500</td>\n      <td>210575</td>\n      <td>...</td>\n      <td>0</td>\n      <td>0</td>\n      <td>0</td>\n      <td>0</td>\n      <td>0</td>\n      <td>0</td>\n      <td>0</td>\n      <td>0</td>\n      <td>Stage 1</td>\n      <td>0.636579</td>\n    </tr>\n    <tr>\n      <th>1985</th>\n      <td>4p3V4c9u09KYZBrzL9dvBG</td>\n      <td>Eagle Bear Buffalo</td>\n      <td>Passenger</td>\n      <td>2018</td>\n      <td>20</td>\n      <td>https://i.scdn.co/image/ab67616d0000b273bdd757...</td>\n      <td>Runaway (Deluxe)</td>\n      <td>0.01190</td>\n      <td>0.442</td>\n      <td>204253</td>\n      <td>...</td>\n      <td>0</td>\n      <td>0</td>\n      <td>0</td>\n      <td>0</td>\n      <td>0</td>\n      <td>0</td>\n      <td>0</td>\n      <td>0</td>\n      <td>Stage 1</td>\n      <td>0.616225</td>\n    </tr>\n    <tr>\n      <th>9394</th>\n      <td>5kWbITj1O9l3hCWeUPwzJy</td>\n      <td>Chelsea's Hip Flask</td>\n      <td>Daniel Pemberton</td>\n      <td>2022</td>\n      <td>1</td>\n      <td>https://i.scdn.co/image/ab67616d0000b273094932...</td>\n      <td>The Afterparty: Season 1 (Apple TV+ Original S...</td>\n      <td>0.30000</td>\n      <td>0.123</td>\n      <td>149567</td>\n      <td>...</td>\n      <td>0</td>\n      <td>0</td>\n      <td>0</td>\n      <td>0</td>\n      <td>0</td>\n      <td>0</td>\n      <td>0</td>\n      <td>0</td>\n      <td>Stage 1</td>\n      <td>0.612390</td>\n    </tr>\n  </tbody>\n</table>\n<p>10 rows × 424 columns</p>\n</div>"
     },
     "execution_count": 181,
     "metadata": {},
     "output_type": "execute_result"
    }
   ],
   "source": [
    "top_recommendations"
   ],
   "metadata": {
    "collapsed": false,
    "ExecuteTime": {
     "end_time": "2025-04-30T11:32:07.689737Z",
     "start_time": "2025-04-30T11:32:07.671434Z"
    }
   },
   "id": "3b07a7f4efb1af71",
   "execution_count": 181
  },
  {
   "cell_type": "code",
   "outputs": [
    {
     "data": {
      "text/plain": "                    track_id                                    track_name  \\\n251   0dcIgqPCMOcCxAL1AuUSpH                                 Love Somebody   \n796   2idIU5vV7T0HO6mspNy0jC                                 Love Somebody   \n241   3Y0jUr5wCR4AynGb8328uL                                 Love Somebody   \n8980  6I4jM8zkQVhWBlRWM72TZv  Future Nostalgia (Joe Goddard Remix) [Mixed]   \n353   1K5tlcaA7exEGO628WK6MO                                 Love Somebody   \n122   5GtBDuWv8TNIGXWTd7o8zR                                         Sugar   \n83    6P8CNYaBLSlDR2rAK1CtmN                                         Sugar   \n426   1qrWaGOBjWjCzWQF7m1pZT                                      Lovesick   \n781   6Im2YIPDPOUU4Kkilow2TM                                         Sugar   \n163   2JbFx65ckk9QzLdSsri6Ig                                         Sugar   \n\n                                     artist_name  year  popularity  \\\n251                                     Maroon 5  2023           4   \n796                                     Maroon 5  2022           2   \n241                                     Maroon 5  2023           2   \n8980  Dua Lipa, The Blessed Madonna, Joe Goddard  2020          34   \n353                                     Maroon 5  2023           0   \n122                                     Maroon 5  2023          12   \n83                                      Maroon 5  2023          11   \n426                                     Maroon 5  2023           1   \n781                                     Maroon 5  2022           9   \n163                                     Maroon 5  2023           8   \n\n                                            artwork_url  \\\n251   https://i.scdn.co/image/ab67616d0000b2730fea8a...   \n796   https://i.scdn.co/image/ab67616d0000b27375dc1b...   \n241   https://i.scdn.co/image/ab67616d0000b2737da160...   \n8980  https://i.scdn.co/image/ab67616d0000b27357fe88...   \n353   https://i.scdn.co/image/ab67616d0000b27368589c...   \n122   https://i.scdn.co/image/ab67616d0000b273227d18...   \n83    https://i.scdn.co/image/ab67616d0000b273d200df...   \n426   https://i.scdn.co/image/ab67616d0000b273f87891...   \n781   https://i.scdn.co/image/ab67616d0000b27375dc1b...   \n163   https://i.scdn.co/image/ab67616d0000b27362e7b8...   \n\n                                album_name  acousticness  danceability  \\\n251                           Workout 2024       0.12900         0.675   \n796                  Throwback Summer Hits       0.12900         0.675   \n241              2013 Best of by uDiscover       0.12900         0.675   \n8980        Club Future Nostalgia (DJ Mix)       0.03010         0.774   \n353   Para cuando te sientes sin confianza       0.12900         0.675   \n122               Dinner With Friends 2023       0.07470         0.729   \n83                       新年あけましておめでとう!２０２４       0.07470         0.729   \n426                      Mix para el orden       0.00248         0.675   \n781                  Throwback Summer Hits       0.07470         0.729   \n163                           Nachtje door       0.07470         0.729   \n\n      duration_ms  ...  vaporwave  variété française  visual kei  vocal jazz  \\\n251        229827  ...          0                  0           0           0   \n796        229827  ...          0                  0           0           0   \n241        229827  ...          0                  0           0           0   \n8980       174240  ...          0                  0           0           0   \n353        229827  ...          0                  0           0           0   \n122        234000  ...          0                  0           0           0   \n83         234000  ...          0                  0           0           0   \n426        185068  ...          0                  0           0           0   \n781        234000  ...          0                  0           0           0   \n163        234000  ...          0                  0           0           0   \n\n      vocaloid  west coast hip hop  worship  iso_stage  similarity  \\\n251          0                   0        0    Stage 7    0.509933   \n796          0                   0        0    Stage 7    0.504656   \n241          0                   0        0    Stage 7    0.504656   \n8980         0                   0        0    Stage 7    0.606832   \n353          0                   0        0    Stage 7    0.499278   \n122          0                   0        0    Stage 7    0.567917   \n83           0                   0        0    Stage 7    0.565682   \n426          0                   0        0    Stage 7    0.476679   \n781          0                   0        0    Stage 7    0.561134   \n163          0                   0        0    Stage 7    0.558823   \n\n      similarity_2  \n251       0.862770  \n796       0.860487  \n241       0.860487  \n8980      0.858054  \n353       0.858035  \n122       0.839374  \n83        0.838605  \n426       0.837742  \n781       0.836960  \n163       0.836084  \n\n[10 rows x 425 columns]",
      "text/html": "<div>\n<style scoped>\n    .dataframe tbody tr th:only-of-type {\n        vertical-align: middle;\n    }\n\n    .dataframe tbody tr th {\n        vertical-align: top;\n    }\n\n    .dataframe thead th {\n        text-align: right;\n    }\n</style>\n<table border=\"1\" class=\"dataframe\">\n  <thead>\n    <tr style=\"text-align: right;\">\n      <th></th>\n      <th>track_id</th>\n      <th>track_name</th>\n      <th>artist_name</th>\n      <th>year</th>\n      <th>popularity</th>\n      <th>artwork_url</th>\n      <th>album_name</th>\n      <th>acousticness</th>\n      <th>danceability</th>\n      <th>duration_ms</th>\n      <th>...</th>\n      <th>vaporwave</th>\n      <th>variété française</th>\n      <th>visual kei</th>\n      <th>vocal jazz</th>\n      <th>vocaloid</th>\n      <th>west coast hip hop</th>\n      <th>worship</th>\n      <th>iso_stage</th>\n      <th>similarity</th>\n      <th>similarity_2</th>\n    </tr>\n  </thead>\n  <tbody>\n    <tr>\n      <th>251</th>\n      <td>0dcIgqPCMOcCxAL1AuUSpH</td>\n      <td>Love Somebody</td>\n      <td>Maroon 5</td>\n      <td>2023</td>\n      <td>4</td>\n      <td>https://i.scdn.co/image/ab67616d0000b2730fea8a...</td>\n      <td>Workout 2024</td>\n      <td>0.12900</td>\n      <td>0.675</td>\n      <td>229827</td>\n      <td>...</td>\n      <td>0</td>\n      <td>0</td>\n      <td>0</td>\n      <td>0</td>\n      <td>0</td>\n      <td>0</td>\n      <td>0</td>\n      <td>Stage 7</td>\n      <td>0.509933</td>\n      <td>0.862770</td>\n    </tr>\n    <tr>\n      <th>796</th>\n      <td>2idIU5vV7T0HO6mspNy0jC</td>\n      <td>Love Somebody</td>\n      <td>Maroon 5</td>\n      <td>2022</td>\n      <td>2</td>\n      <td>https://i.scdn.co/image/ab67616d0000b27375dc1b...</td>\n      <td>Throwback Summer Hits</td>\n      <td>0.12900</td>\n      <td>0.675</td>\n      <td>229827</td>\n      <td>...</td>\n      <td>0</td>\n      <td>0</td>\n      <td>0</td>\n      <td>0</td>\n      <td>0</td>\n      <td>0</td>\n      <td>0</td>\n      <td>Stage 7</td>\n      <td>0.504656</td>\n      <td>0.860487</td>\n    </tr>\n    <tr>\n      <th>241</th>\n      <td>3Y0jUr5wCR4AynGb8328uL</td>\n      <td>Love Somebody</td>\n      <td>Maroon 5</td>\n      <td>2023</td>\n      <td>2</td>\n      <td>https://i.scdn.co/image/ab67616d0000b2737da160...</td>\n      <td>2013 Best of by uDiscover</td>\n      <td>0.12900</td>\n      <td>0.675</td>\n      <td>229827</td>\n      <td>...</td>\n      <td>0</td>\n      <td>0</td>\n      <td>0</td>\n      <td>0</td>\n      <td>0</td>\n      <td>0</td>\n      <td>0</td>\n      <td>Stage 7</td>\n      <td>0.504656</td>\n      <td>0.860487</td>\n    </tr>\n    <tr>\n      <th>8980</th>\n      <td>6I4jM8zkQVhWBlRWM72TZv</td>\n      <td>Future Nostalgia (Joe Goddard Remix) [Mixed]</td>\n      <td>Dua Lipa, The Blessed Madonna, Joe Goddard</td>\n      <td>2020</td>\n      <td>34</td>\n      <td>https://i.scdn.co/image/ab67616d0000b27357fe88...</td>\n      <td>Club Future Nostalgia (DJ Mix)</td>\n      <td>0.03010</td>\n      <td>0.774</td>\n      <td>174240</td>\n      <td>...</td>\n      <td>0</td>\n      <td>0</td>\n      <td>0</td>\n      <td>0</td>\n      <td>0</td>\n      <td>0</td>\n      <td>0</td>\n      <td>Stage 7</td>\n      <td>0.606832</td>\n      <td>0.858054</td>\n    </tr>\n    <tr>\n      <th>353</th>\n      <td>1K5tlcaA7exEGO628WK6MO</td>\n      <td>Love Somebody</td>\n      <td>Maroon 5</td>\n      <td>2023</td>\n      <td>0</td>\n      <td>https://i.scdn.co/image/ab67616d0000b27368589c...</td>\n      <td>Para cuando te sientes sin confianza</td>\n      <td>0.12900</td>\n      <td>0.675</td>\n      <td>229827</td>\n      <td>...</td>\n      <td>0</td>\n      <td>0</td>\n      <td>0</td>\n      <td>0</td>\n      <td>0</td>\n      <td>0</td>\n      <td>0</td>\n      <td>Stage 7</td>\n      <td>0.499278</td>\n      <td>0.858035</td>\n    </tr>\n    <tr>\n      <th>122</th>\n      <td>5GtBDuWv8TNIGXWTd7o8zR</td>\n      <td>Sugar</td>\n      <td>Maroon 5</td>\n      <td>2023</td>\n      <td>12</td>\n      <td>https://i.scdn.co/image/ab67616d0000b273227d18...</td>\n      <td>Dinner With Friends 2023</td>\n      <td>0.07470</td>\n      <td>0.729</td>\n      <td>234000</td>\n      <td>...</td>\n      <td>0</td>\n      <td>0</td>\n      <td>0</td>\n      <td>0</td>\n      <td>0</td>\n      <td>0</td>\n      <td>0</td>\n      <td>Stage 7</td>\n      <td>0.567917</td>\n      <td>0.839374</td>\n    </tr>\n    <tr>\n      <th>83</th>\n      <td>6P8CNYaBLSlDR2rAK1CtmN</td>\n      <td>Sugar</td>\n      <td>Maroon 5</td>\n      <td>2023</td>\n      <td>11</td>\n      <td>https://i.scdn.co/image/ab67616d0000b273d200df...</td>\n      <td>新年あけましておめでとう!２０２４</td>\n      <td>0.07470</td>\n      <td>0.729</td>\n      <td>234000</td>\n      <td>...</td>\n      <td>0</td>\n      <td>0</td>\n      <td>0</td>\n      <td>0</td>\n      <td>0</td>\n      <td>0</td>\n      <td>0</td>\n      <td>Stage 7</td>\n      <td>0.565682</td>\n      <td>0.838605</td>\n    </tr>\n    <tr>\n      <th>426</th>\n      <td>1qrWaGOBjWjCzWQF7m1pZT</td>\n      <td>Lovesick</td>\n      <td>Maroon 5</td>\n      <td>2023</td>\n      <td>1</td>\n      <td>https://i.scdn.co/image/ab67616d0000b273f87891...</td>\n      <td>Mix para el orden</td>\n      <td>0.00248</td>\n      <td>0.675</td>\n      <td>185068</td>\n      <td>...</td>\n      <td>0</td>\n      <td>0</td>\n      <td>0</td>\n      <td>0</td>\n      <td>0</td>\n      <td>0</td>\n      <td>0</td>\n      <td>Stage 7</td>\n      <td>0.476679</td>\n      <td>0.837742</td>\n    </tr>\n    <tr>\n      <th>781</th>\n      <td>6Im2YIPDPOUU4Kkilow2TM</td>\n      <td>Sugar</td>\n      <td>Maroon 5</td>\n      <td>2022</td>\n      <td>9</td>\n      <td>https://i.scdn.co/image/ab67616d0000b27375dc1b...</td>\n      <td>Throwback Summer Hits</td>\n      <td>0.07470</td>\n      <td>0.729</td>\n      <td>234000</td>\n      <td>...</td>\n      <td>0</td>\n      <td>0</td>\n      <td>0</td>\n      <td>0</td>\n      <td>0</td>\n      <td>0</td>\n      <td>0</td>\n      <td>Stage 7</td>\n      <td>0.561134</td>\n      <td>0.836960</td>\n    </tr>\n    <tr>\n      <th>163</th>\n      <td>2JbFx65ckk9QzLdSsri6Ig</td>\n      <td>Sugar</td>\n      <td>Maroon 5</td>\n      <td>2023</td>\n      <td>8</td>\n      <td>https://i.scdn.co/image/ab67616d0000b27362e7b8...</td>\n      <td>Nachtje door</td>\n      <td>0.07470</td>\n      <td>0.729</td>\n      <td>234000</td>\n      <td>...</td>\n      <td>0</td>\n      <td>0</td>\n      <td>0</td>\n      <td>0</td>\n      <td>0</td>\n      <td>0</td>\n      <td>0</td>\n      <td>Stage 7</td>\n      <td>0.558823</td>\n      <td>0.836084</td>\n    </tr>\n  </tbody>\n</table>\n<p>10 rows × 425 columns</p>\n</div>"
     },
     "execution_count": 174,
     "metadata": {},
     "output_type": "execute_result"
    }
   ],
   "source": [
    "top_recommendations_2"
   ],
   "metadata": {
    "collapsed": false,
    "ExecuteTime": {
     "end_time": "2025-04-30T11:30:59.196932Z",
     "start_time": "2025-04-30T11:30:59.184450Z"
    }
   },
   "id": "913fb87137b3e585",
   "execution_count": 174
  },
  {
   "cell_type": "code",
   "outputs": [],
   "source": [],
   "metadata": {
    "collapsed": false,
    "ExecuteTime": {
     "end_time": "2025-05-08T14:39:04.272671Z",
     "start_time": "2025-05-08T14:39:04.259588Z"
    }
   },
   "id": "6f99cc7b2bb66f78",
   "execution_count": 3
  },
  {
   "cell_type": "code",
   "outputs": [],
   "source": [],
   "metadata": {
    "collapsed": false
   },
   "id": "e1118d4090a18de3"
  }
 ],
 "metadata": {
  "kernelspec": {
   "display_name": "Python 3",
   "language": "python",
   "name": "python3"
  },
  "language_info": {
   "codemirror_mode": {
    "name": "ipython",
    "version": 2
   },
   "file_extension": ".py",
   "mimetype": "text/x-python",
   "name": "python",
   "nbconvert_exporter": "python",
   "pygments_lexer": "ipython2",
   "version": "2.7.6"
  }
 },
 "nbformat": 4,
 "nbformat_minor": 5
}
